{
 "cells": [
  {
   "attachments": {},
   "cell_type": "markdown",
   "metadata": {},
   "source": [
    "## Question 1"
   ]
  },
  {
   "cell_type": "code",
   "execution_count": 2,
   "metadata": {},
   "outputs": [],
   "source": [
    "import numpy as np \n",
    "import matplotlib.pyplot as plt\n",
    "from sympy import *\n",
    "import matplotlib.patches as mpatches\n"
   ]
  },
  {
   "cell_type": "code",
   "execution_count": null,
   "metadata": {},
   "outputs": [],
   "source": [
    "x, y = np.meshgrid(np.linspace(-2, 2, 300), np.linspace(-2, 2, 300))\n",
    "converged = []\n",
    "diverged = []\n",
    "def z(c):\n",
    "    \"\"\"\n",
    "    A python function that represents the complex number function provided\n",
    "    Parameters\n",
    "    ----------\n",
    "    c : complex \n",
    "        A complex number that lies inside the \n",
    "    \"\"\"\n",
    "    out = np.zeros(10, dtype  = complex)\n",
    "    z = 0 \n",
    "    for i in range(10):\n",
    "        out[i] = z\n",
    "        z = z**2 + c\n",
    "    return out\n",
    "for i in range(len(x)):\n",
    "    for k in range(len(y)):\n",
    "        maxval =  2\n",
    "        convergence = True\n",
    "        number = 0\n",
    "        c = x[i][k] + y[i][k]*1j\n",
    "        output = z(c)\n",
    "        mag = np.abs(output)\n",
    "        if mag.max() > maxval:\n",
    "            convergence = False\n",
    "        if convergence == True:\n",
    "            color = 'blue'\n",
    "            converged = np.append(converged, c)\n",
    "            number = number+1\n",
    "        else: \n",
    "            color = 'red'\n",
    "            diverged = np.append(diverged, c)\n",
    "plt.scatter(converged.real, converged.imag, color = 'white', s=1)\n",
    "plt.scatter(diverged.real, diverged.imag, color = 'black', s=1)\n",
    "patch1 = mpatches.Patch(color='white', label='Bounded')\n",
    "patch2 = mpatches.Patch(color='black', label='Diverges')\n",
    "plt.legend(handles =[patch1, patch2])\n",
    "plt.xlim(-2, 2)\n",
    "plt.ylim(-2, 2)"
   ]
  },
  {
   "cell_type": "code",
   "execution_count": null,
   "metadata": {},
   "outputs": [],
   "source": [
    "x, y = np.meshgrid(np.linspace(-2, 2, 500), np.linspace(-2, 2, 500))\n",
    "converged = []\n",
    "diverged = []\n",
    "for i in range(len(x)):\n",
    "    for k in range(len(y)):\n",
    "        maxval =  2\n",
    "        convergence = True\n",
    "        divergence  = False\n",
    "        iteration = 0\n",
    "        c = x[i][k] + y[i][k]*1j\n",
    "        output = z(c)\n",
    "        #for i in range(len(output)):\n",
    "        #        print(1)\n",
    "        #    if divergence == False and output[i]>2:\n",
    "        #        divergence = True\n",
    "        #        iteration = i+1\n",
    "        mag = np.abs(output)\n",
    "        if mag.max() > maxval:\n",
    "            convergence = False\n",
    "        if convergence == True:\n",
    "            color = 'blue'\n",
    "            converged = np.append(converged, c)\n",
    "        else: \n",
    "            color = 'red'\n",
    "            diverged = np.append(diverged, c)\n",
    "\n",
    "plt.scatter(converged.real, converged.imag, color = 'blue', s=1)\n",
    "#plt.scatter(diverged.real, diverged.imag, iteration)\n",
    "\n",
    "\n",
    "iteration = []\n",
    "for p in range(len(diverged)):\n",
    "    result = z(diverged[p])\n",
    "    magnitude = np.abs(result)\n",
    "    exit = False\n",
    "    for q in range(len(result)):\n",
    "        if exit == False and magnitude[q]> maxval:\n",
    "            exit = True \n",
    "            iteration = np.append(iteration, q+1)\n",
    "\n",
    "plt.scatter(diverged.real, diverged.imag, c = iteration, s=1)\n",
    "plt.colorbar()"
   ]
  },
  {
   "attachments": {},
   "cell_type": "markdown",
   "metadata": {},
   "source": [
    "## Question 2"
   ]
  },
  {
   "cell_type": "code",
   "execution_count": 4,
   "metadata": {},
   "outputs": [],
   "source": [
    "from scipy.integrate import solve_ivp\n",
    "\n",
    "def lorenz(t, W, sigma, r, b):\n",
    "    \"\"\"\n",
    "    A python function representing Lorenz's equations. \n",
    "    Parameters\n",
    "    -----------\n",
    "    t : float\n",
    "        represents time, which is the independant variable \n",
    "    W : numpy array\n",
    "        represents the Fourier modes that Lorenz decided to keep. There are three modes given by X  = W[0], Y = W[1], and Z  =W[2]\n",
    "    sigma : float\n",
    "            representst the Prandtl number\n",
    "    r : float\n",
    "        represents the Rayleigh number\n",
    "    b : float\n",
    "        represents the dimensionless lenght scale\n",
    "    \"\"\"\n",
    "    return [-sigma*(W[0]-W[1]), r*W[0]-W[1] -W[0]*W[2], -b*W[2] + W[0]*W[1]]"
   ]
  },
  {
   "cell_type": "code",
   "execution_count": null,
   "metadata": {},
   "outputs": [],
   "source": [
    "W0  = [0, 1, 0]\n",
    "args = (10, 28, 8/3)\n",
    "sigma, r,  b = args\n",
    "t_span = [0, 60]\n",
    "t = np.linspace(t_span[0], t_span[1], 6000)\n",
    "\n",
    "N1  = np.linspace(0, 1000, 1000)\n",
    "N2 = np.linspace(1000, 2000, 1000)\n",
    "N3 = np.linspace(2000, 3000, 1000)\n",
    "sol = solve_ivp(lorenz, y0 = W0, t_span = t_span, t_eval = t, args = args)\n",
    "f,ax = plt.subplots(3,1,figsize=(10,8))\n",
    "ax[0].plot(N1,sol.y[1][:1000])\n",
    "ax[1].plot(N2,sol.y[1][1000:2000])\n",
    "ax[2].plot(N3,sol.y[1][2000:3000])\n",
    "plt.xlabel(\"Number of iterations $t/\\Delta t$\")\n",
    "ax[1].set(ylabel = \"$Y$\")"
   ]
  },
  {
   "cell_type": "code",
   "execution_count": null,
   "metadata": {},
   "outputs": [],
   "source": [
    "t2 = np.linspace(14, 19, 1000)\n",
    "sol2 = solve_ivp(lorenz, y0 = W0, t_span = t_span, t_eval = t2, args = args)\n",
    "f,ax = plt.subplots(2,1,figsize=(10,10))\n",
    "ax[0].plot(sol2.y[1],sol2.y[2])\n",
    "ax[0].set(xlabel = \"Y\", ylabel = \"Z\")\n",
    "ax[1].plot(sol2.y[1], sol2.y[0])\n",
    "ax[1].set( ylim =(20, -20), xlabel = \"Y\", ylabel =\"X\" )"
   ]
  },
  {
   "cell_type": "code",
   "execution_count": null,
   "metadata": {},
   "outputs": [],
   "source": [
    "W1  = [0, 1+ 1e-8, 0]\n",
    "args = (10, 28, 8/3)\n",
    "sigma, r,  b = args\n",
    "t_span = [0, 60]\n",
    "t = np.linspace(t_span[0], t_span[1], 6000)\n",
    "\n",
    "sol3 = solve_ivp(lorenz, y0 = W1, t_span = t_span, t_eval = t, args = args)\n",
    "distance = np.zeros(6000)\n",
    "for i in range(len(distance)):\n",
    "    distance[i] = np.linalg.norm((sol.y-sol3.y).T[i])\n",
    "logdistance = np.log10(distance)\n",
    "fig, ax = plt.subplots()\n",
    "plt.plot(t, logdistance)\n",
    "plt.xlabel(\"Time\")\n",
    "plt.ylabel(\"Log Distance\")"
   ]
  },
  {
   "cell_type": "code",
   "execution_count": null,
   "metadata": {},
   "outputs": [],
   "source": []
  }
 ],
 "metadata": {
  "kernelspec": {
   "display_name": "base",
   "language": "python",
   "name": "python3"
  },
  "language_info": {
   "codemirror_mode": {
    "name": "ipython",
    "version": 3
   },
   "file_extension": ".py",
   "mimetype": "text/x-python",
   "name": "python",
   "nbconvert_exporter": "python",
   "pygments_lexer": "ipython3",
   "version": "3.9.12"
  },
  "orig_nbformat": 4,
  "vscode": {
   "interpreter": {
    "hash": "82827d0093985daeb1c9eae8476e73958d6aa5e65a670f5e02054565402749da"
   }
  }
 },
 "nbformat": 4,
 "nbformat_minor": 2
}

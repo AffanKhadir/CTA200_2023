{
 "cells": [
  {
   "attachments": {},
   "cell_type": "markdown",
   "metadata": {},
   "source": [
    "## Part 1\n",
    "##"
   ]
  },
  {
   "cell_type": "code",
   "execution_count": 109,
   "metadata": {},
   "outputs": [],
   "source": [
    "#Importing the relevant modules\n",
    "import numpy as np\n",
    "import matplotlib as mpl \n",
    "import matplotlib.pyplot as plt\n",
    "\n",
    "def f(x):\n",
    "    \"\"\"A python function to model the given mathematical function\n",
    "    Parameters\n",
    "    -----------\n",
    "    x : float\n",
    "        x is any real number\n",
    "    \"\"\"\n",
    "    y = x**3 - x**2 -1 \n",
    "    return y\n",
    "def df(x):\n",
    "    \"\"\"A python function to model the derivative of the given mathematical function\n",
    "    Parameters\n",
    "    -----------\n",
    "    x : float\n",
    "        x is any real number\n",
    "    \"\"\"\n",
    "    y = 3*(x)**2 - 2*x\n",
    "    return y"
   ]
  },
  {
   "attachments": {},
   "cell_type": "markdown",
   "metadata": {},
   "source": [
    "## Part 2\n",
    "##"
   ]
  },
  {
   "cell_type": "code",
   "execution_count": 110,
   "metadata": {},
   "outputs": [],
   "source": [
    "def newton(f, df, x0, epsilon = 1e-6, max_iter = 30):\n",
    "    \"\"\"\n",
    "    A python function to find the root of a function using Newton's method\n",
    "    Parameters\n",
    "    -----------\n",
    "    f :  function \n",
    "         f is the function for which we want to find the root\n",
    "    df : function\n",
    "         df is the derivative of the function for which we want to find the root\n",
    "    x0 : float\n",
    "         the initial guess that we start with\n",
    "    epsilon : float\n",
    "              outputs the relevant \n",
    "    \"\"\"\n",
    "    x = int(x0)\n",
    "    output = None\n",
    "    for i in range(max_iter):\n",
    "        if output == None:\n",
    "            if np.abs(f(x)) >= epsilon:\n",
    "                x = x - (f(x))/(df(x))\n",
    "            else:\n",
    "                print(\"Found root in \" + str(i+1) + \"iterations\")\n",
    "                output = x \n",
    "    if output == None:\n",
    "        print(\"Iteration failed\")\n",
    "    return output"
   ]
  },
  {
   "attachments": {},
   "cell_type": "markdown",
   "metadata": {},
   "source": [
    "## Part 3"
   ]
  },
  {
   "cell_type": "code",
   "execution_count": 40,
   "metadata": {},
   "outputs": [
    {
     "name": "stdout",
     "output_type": "stream",
     "text": [
      "-0.31999999999999995\n"
     ]
    }
   ],
   "source": [
    "print(df(0.4))"
   ]
  },
  {
   "cell_type": "code",
   "execution_count": 103,
   "metadata": {},
   "outputs": [
    {
     "name": "stdout",
     "output_type": "stream",
     "text": [
      "Found root in 16iterations\n",
      "1.4655712318887797\n",
      "Found root in 30iterations\n",
      "1.4655712899160318\n"
     ]
    }
   ],
   "source": [
    "y = newton(f, df, 100)\n",
    "print(y)\n",
    "\n",
    "y = newton(f, df, 37000)\n",
    "print(y)"
   ]
  },
  {
   "cell_type": "code",
   "execution_count": 105,
   "metadata": {},
   "outputs": [
    {
     "name": "stdout",
     "output_type": "stream",
     "text": [
      "Found root in 16iterations\n",
      "1.4655712318887797\n",
      "Iteration failed\n",
      "None\n"
     ]
    }
   ],
   "source": [
    "y = newton(f, df, 100, epsilon = 1e-8)\n",
    "print(y)\n",
    "\n",
    "y= newton(f, df, 37000, epsilon = 1e-8)\n",
    "print(y)"
   ]
  }
 ],
 "metadata": {
  "kernelspec": {
   "display_name": "base",
   "language": "python",
   "name": "python3"
  },
  "language_info": {
   "codemirror_mode": {
    "name": "ipython",
    "version": 3
   },
   "file_extension": ".py",
   "mimetype": "text/x-python",
   "name": "python",
   "nbconvert_exporter": "python",
   "pygments_lexer": "ipython3",
   "version": "3.9.12"
  },
  "orig_nbformat": 4,
  "vscode": {
   "interpreter": {
    "hash": "82827d0093985daeb1c9eae8476e73958d6aa5e65a670f5e02054565402749da"
   }
  }
 },
 "nbformat": 4,
 "nbformat_minor": 2
}
